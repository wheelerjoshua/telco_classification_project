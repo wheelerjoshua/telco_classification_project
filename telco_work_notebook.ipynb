{
 "cells": [
  {
   "cell_type": "code",
   "execution_count": 6,
   "id": "7fb63456",
   "metadata": {},
   "outputs": [],
   "source": [
    "#### Import python modules, machine learning models, and user-defined .py modules\n",
    "import warnings\n",
    "warnings.filterwarnings(\"ignore\")\n",
    "\n",
    "import numpy as np\n",
    "import pandas as pd\n",
    "from pydataset import data\n",
    "\n",
    "from sklearn.model_selection import train_test_split\n",
    "from sklearn.tree import DecisionTreeClassifier\n",
    "from sklearn.ensemble import RandomForestClassifier\n",
    "from sklearn.neighbors import KNeighborsClassifier\n",
    "from sklearn.linear_model import LogisticRegression\n",
    "from sklearn.metrics import classification_report\n",
    "from sklearn.metrics import confusion_matrix\n",
    "from sklearn.tree import export_graphviz\n",
    "from sklearn.impute import SimpleImputer\n",
    "\n",
    "import sklearn.metrics\n",
    "import matplotlib.pyplot as plt\n",
    "%matplotlib inline\n",
    "import seaborn as sns\n",
    "\n",
    "import graphviz\n",
    "from graphviz import Graph\n",
    "\n",
    "import acquire\n",
    "import prepare"
   ]
  },
  {
   "cell_type": "markdown",
   "id": "df00e55a",
   "metadata": {},
   "source": [
    "# Wrangle"
   ]
  },
  {
   "cell_type": "markdown",
   "id": "99805f00",
   "metadata": {},
   "source": [
    "## Acquire"
   ]
  },
  {
   "cell_type": "code",
   "execution_count": 7,
   "id": "197fdfc0",
   "metadata": {},
   "outputs": [],
   "source": [
    "df = acquire.get_telco_data()"
   ]
  },
  {
   "cell_type": "markdown",
   "id": "2f130dbc",
   "metadata": {},
   "source": [
    "## Prepare\n",
    "\n",
    "#### Modifications: \n",
    "drop gender, partner, dependents, phone_service, multiple_lines, churn, all categorical non-numeric values"
   ]
  },
  {
   "cell_type": "code",
   "execution_count": 9,
   "id": "f7b87f30",
   "metadata": {},
   "outputs": [],
   "source": [
    "df = prepare.prep_telco(df)"
   ]
  },
  {
   "cell_type": "code",
   "execution_count": 11,
   "id": "22a8b19c",
   "metadata": {},
   "outputs": [
    {
     "name": "stdout",
     "output_type": "stream",
     "text": [
      "<class 'pandas.core.frame.DataFrame'>\n",
      "Int64Index: 7032 entries, 0 to 7042\n",
      "Data columns (total 25 columns):\n",
      " #   Column                           Non-Null Count  Dtype  \n",
      "---  ------                           --------------  -----  \n",
      " 0   payment_type_id                  7032 non-null   int64  \n",
      " 1   internet_service_type_id         7032 non-null   int64  \n",
      " 2   contract_type_id                 7032 non-null   int64  \n",
      " 3   gender                           7032 non-null   object \n",
      " 4   senior_citizen                   7032 non-null   int64  \n",
      " 5   partner                          7032 non-null   object \n",
      " 6   dependents                       7032 non-null   object \n",
      " 7   tenure                           7032 non-null   int64  \n",
      " 8   phone_service                    7032 non-null   object \n",
      " 9   multiple_lines                   7032 non-null   object \n",
      " 10  streaming_tv                     7032 non-null   object \n",
      " 11  streaming_movies                 7032 non-null   object \n",
      " 12  paperless_billing                7032 non-null   object \n",
      " 13  monthly_charges                  7032 non-null   float64\n",
      " 14  total_charges                    7032 non-null   float64\n",
      " 15  churn                            7032 non-null   object \n",
      " 16  gender_Male                      7032 non-null   uint8  \n",
      " 17  partner_Yes                      7032 non-null   uint8  \n",
      " 18  dependents_Yes                   7032 non-null   uint8  \n",
      " 19  multiple_lines_No phone service  7032 non-null   uint8  \n",
      " 20  multiple_lines_Yes               7032 non-null   uint8  \n",
      " 21  streaming_tv_Yes                 7032 non-null   uint8  \n",
      " 22  streaming_movies_Yes             7032 non-null   uint8  \n",
      " 23  paperless_billing_Yes            7032 non-null   uint8  \n",
      " 24  churn_Yes                        7032 non-null   uint8  \n",
      "dtypes: float64(2), int64(5), object(9), uint8(9)\n",
      "memory usage: 995.7+ KB\n"
     ]
    }
   ],
   "source": [
    "df.info()"
   ]
  },
  {
   "cell_type": "code",
   "execution_count": null,
   "id": "5f6fa035",
   "metadata": {},
   "outputs": [],
   "source": []
  }
 ],
 "metadata": {
  "kernelspec": {
   "display_name": "Python 3",
   "language": "python",
   "name": "python3"
  },
  "language_info": {
   "codemirror_mode": {
    "name": "ipython",
    "version": 3
   },
   "file_extension": ".py",
   "mimetype": "text/x-python",
   "name": "python",
   "nbconvert_exporter": "python",
   "pygments_lexer": "ipython3",
   "version": "3.8.8"
  }
 },
 "nbformat": 4,
 "nbformat_minor": 5
}
