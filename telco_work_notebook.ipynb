{
 "cells": [
  {
   "cell_type": "code",
   "execution_count": 39,
   "id": "7fb63456",
   "metadata": {},
   "outputs": [],
   "source": [
    "#### Import python modules, machine learning models, and user-defined .py modules\n",
    "import warnings\n",
    "warnings.filterwarnings(\"ignore\")\n",
    "\n",
    "import numpy as np\n",
    "import pandas as pd\n",
    "from pydataset import data\n",
    "from scipy import stats\n",
    "\n",
    "\n",
    "from sklearn.model_selection import train_test_split\n",
    "from sklearn.tree import DecisionTreeClassifier\n",
    "from sklearn.ensemble import RandomForestClassifier\n",
    "from sklearn.neighbors import KNeighborsClassifier\n",
    "from sklearn.linear_model import LogisticRegression\n",
    "from sklearn.metrics import classification_report\n",
    "from sklearn.metrics import confusion_matrix\n",
    "from sklearn.metrics import accuracy_score\n",
    "from sklearn.tree import export_graphviz\n",
    "from sklearn.impute import SimpleImputer\n",
    "\n",
    "import sklearn.metrics\n",
    "import matplotlib.pyplot as plt\n",
    "%matplotlib inline\n",
    "import seaborn as sns\n",
    "\n",
    "import graphviz\n",
    "from graphviz import Graph\n",
    "\n",
    "import acquire\n",
    "import prepare"
   ]
  },
  {
   "cell_type": "markdown",
   "id": "df00e55a",
   "metadata": {},
   "source": [
    "# Wrangle"
   ]
  },
  {
   "cell_type": "markdown",
   "id": "99805f00",
   "metadata": {},
   "source": [
    "## Acquire"
   ]
  },
  {
   "cell_type": "code",
   "execution_count": 2,
   "id": "197fdfc0",
   "metadata": {},
   "outputs": [],
   "source": [
    "df = acquire.get_telco_data()"
   ]
  },
  {
   "cell_type": "markdown",
   "id": "2f130dbc",
   "metadata": {},
   "source": [
    "## Prepare"
   ]
  },
  {
   "cell_type": "code",
   "execution_count": 3,
   "id": "f7b87f30",
   "metadata": {},
   "outputs": [],
   "source": [
    "df = prepare.prep_telco(df)"
   ]
  },
  {
   "cell_type": "markdown",
   "id": "ba599037",
   "metadata": {},
   "source": [
    "## Split"
   ]
  },
  {
   "cell_type": "code",
   "execution_count": 4,
   "id": "dc2960fa",
   "metadata": {},
   "outputs": [],
   "source": [
    "train, validate, test = prepare.split_telco(df)"
   ]
  },
  {
   "cell_type": "code",
   "execution_count": 5,
   "id": "6314025f",
   "metadata": {},
   "outputs": [
    {
     "data": {
      "text/html": [
       "<div>\n",
       "<style scoped>\n",
       "    .dataframe tbody tr th:only-of-type {\n",
       "        vertical-align: middle;\n",
       "    }\n",
       "\n",
       "    .dataframe tbody tr th {\n",
       "        vertical-align: top;\n",
       "    }\n",
       "\n",
       "    .dataframe thead th {\n",
       "        text-align: right;\n",
       "    }\n",
       "</style>\n",
       "<table border=\"1\" class=\"dataframe\">\n",
       "  <thead>\n",
       "    <tr style=\"text-align: right;\">\n",
       "      <th></th>\n",
       "      <th>payment_type_id</th>\n",
       "      <th>internet_service_type_id</th>\n",
       "      <th>contract_type_id</th>\n",
       "      <th>senior_citizen</th>\n",
       "      <th>tenure</th>\n",
       "      <th>monthly_charges</th>\n",
       "      <th>total_charges</th>\n",
       "      <th>gender_Male</th>\n",
       "      <th>partner_Yes</th>\n",
       "      <th>dependents_Yes</th>\n",
       "      <th>...</th>\n",
       "      <th>online_backup_No internet service</th>\n",
       "      <th>online_backup_Yes</th>\n",
       "      <th>device_protection_No internet service</th>\n",
       "      <th>device_protection_Yes</th>\n",
       "      <th>tech_support_No internet service</th>\n",
       "      <th>tech_support_Yes</th>\n",
       "      <th>streaming_tv_Yes</th>\n",
       "      <th>streaming_movies_Yes</th>\n",
       "      <th>paperless_billing_Yes</th>\n",
       "      <th>churn</th>\n",
       "    </tr>\n",
       "  </thead>\n",
       "  <tbody>\n",
       "    <tr>\n",
       "      <th>6096</th>\n",
       "      <td>3</td>\n",
       "      <td>3</td>\n",
       "      <td>3</td>\n",
       "      <td>0</td>\n",
       "      <td>70</td>\n",
       "      <td>19.45</td>\n",
       "      <td>1303.50</td>\n",
       "      <td>0</td>\n",
       "      <td>1</td>\n",
       "      <td>0</td>\n",
       "      <td>...</td>\n",
       "      <td>1</td>\n",
       "      <td>0</td>\n",
       "      <td>1</td>\n",
       "      <td>0</td>\n",
       "      <td>1</td>\n",
       "      <td>0</td>\n",
       "      <td>0</td>\n",
       "      <td>0</td>\n",
       "      <td>0</td>\n",
       "      <td>0</td>\n",
       "    </tr>\n",
       "    <tr>\n",
       "      <th>1603</th>\n",
       "      <td>2</td>\n",
       "      <td>1</td>\n",
       "      <td>1</td>\n",
       "      <td>0</td>\n",
       "      <td>15</td>\n",
       "      <td>69.50</td>\n",
       "      <td>1071.40</td>\n",
       "      <td>1</td>\n",
       "      <td>1</td>\n",
       "      <td>1</td>\n",
       "      <td>...</td>\n",
       "      <td>0</td>\n",
       "      <td>1</td>\n",
       "      <td>0</td>\n",
       "      <td>1</td>\n",
       "      <td>0</td>\n",
       "      <td>1</td>\n",
       "      <td>0</td>\n",
       "      <td>1</td>\n",
       "      <td>1</td>\n",
       "      <td>0</td>\n",
       "    </tr>\n",
       "    <tr>\n",
       "      <th>5350</th>\n",
       "      <td>1</td>\n",
       "      <td>2</td>\n",
       "      <td>1</td>\n",
       "      <td>1</td>\n",
       "      <td>52</td>\n",
       "      <td>109.10</td>\n",
       "      <td>5647.95</td>\n",
       "      <td>0</td>\n",
       "      <td>1</td>\n",
       "      <td>0</td>\n",
       "      <td>...</td>\n",
       "      <td>0</td>\n",
       "      <td>1</td>\n",
       "      <td>0</td>\n",
       "      <td>1</td>\n",
       "      <td>0</td>\n",
       "      <td>0</td>\n",
       "      <td>1</td>\n",
       "      <td>1</td>\n",
       "      <td>1</td>\n",
       "      <td>0</td>\n",
       "    </tr>\n",
       "    <tr>\n",
       "      <th>2068</th>\n",
       "      <td>1</td>\n",
       "      <td>1</td>\n",
       "      <td>1</td>\n",
       "      <td>0</td>\n",
       "      <td>39</td>\n",
       "      <td>40.60</td>\n",
       "      <td>1494.50</td>\n",
       "      <td>1</td>\n",
       "      <td>0</td>\n",
       "      <td>0</td>\n",
       "      <td>...</td>\n",
       "      <td>0</td>\n",
       "      <td>0</td>\n",
       "      <td>0</td>\n",
       "      <td>0</td>\n",
       "      <td>0</td>\n",
       "      <td>1</td>\n",
       "      <td>0</td>\n",
       "      <td>1</td>\n",
       "      <td>1</td>\n",
       "      <td>0</td>\n",
       "    </tr>\n",
       "    <tr>\n",
       "      <th>6366</th>\n",
       "      <td>2</td>\n",
       "      <td>3</td>\n",
       "      <td>2</td>\n",
       "      <td>0</td>\n",
       "      <td>32</td>\n",
       "      <td>19.30</td>\n",
       "      <td>593.20</td>\n",
       "      <td>0</td>\n",
       "      <td>1</td>\n",
       "      <td>0</td>\n",
       "      <td>...</td>\n",
       "      <td>1</td>\n",
       "      <td>0</td>\n",
       "      <td>1</td>\n",
       "      <td>0</td>\n",
       "      <td>1</td>\n",
       "      <td>0</td>\n",
       "      <td>0</td>\n",
       "      <td>0</td>\n",
       "      <td>0</td>\n",
       "      <td>0</td>\n",
       "    </tr>\n",
       "    <tr>\n",
       "      <th>...</th>\n",
       "      <td>...</td>\n",
       "      <td>...</td>\n",
       "      <td>...</td>\n",
       "      <td>...</td>\n",
       "      <td>...</td>\n",
       "      <td>...</td>\n",
       "      <td>...</td>\n",
       "      <td>...</td>\n",
       "      <td>...</td>\n",
       "      <td>...</td>\n",
       "      <td>...</td>\n",
       "      <td>...</td>\n",
       "      <td>...</td>\n",
       "      <td>...</td>\n",
       "      <td>...</td>\n",
       "      <td>...</td>\n",
       "      <td>...</td>\n",
       "      <td>...</td>\n",
       "      <td>...</td>\n",
       "      <td>...</td>\n",
       "      <td>...</td>\n",
       "    </tr>\n",
       "    <tr>\n",
       "      <th>296</th>\n",
       "      <td>3</td>\n",
       "      <td>1</td>\n",
       "      <td>3</td>\n",
       "      <td>0</td>\n",
       "      <td>71</td>\n",
       "      <td>89.90</td>\n",
       "      <td>6342.70</td>\n",
       "      <td>0</td>\n",
       "      <td>1</td>\n",
       "      <td>1</td>\n",
       "      <td>...</td>\n",
       "      <td>0</td>\n",
       "      <td>1</td>\n",
       "      <td>0</td>\n",
       "      <td>1</td>\n",
       "      <td>0</td>\n",
       "      <td>1</td>\n",
       "      <td>1</td>\n",
       "      <td>1</td>\n",
       "      <td>0</td>\n",
       "      <td>0</td>\n",
       "    </tr>\n",
       "    <tr>\n",
       "      <th>4200</th>\n",
       "      <td>3</td>\n",
       "      <td>2</td>\n",
       "      <td>1</td>\n",
       "      <td>1</td>\n",
       "      <td>16</td>\n",
       "      <td>71.80</td>\n",
       "      <td>1167.80</td>\n",
       "      <td>1</td>\n",
       "      <td>1</td>\n",
       "      <td>0</td>\n",
       "      <td>...</td>\n",
       "      <td>0</td>\n",
       "      <td>0</td>\n",
       "      <td>0</td>\n",
       "      <td>0</td>\n",
       "      <td>0</td>\n",
       "      <td>0</td>\n",
       "      <td>0</td>\n",
       "      <td>0</td>\n",
       "      <td>1</td>\n",
       "      <td>1</td>\n",
       "    </tr>\n",
       "    <tr>\n",
       "      <th>3012</th>\n",
       "      <td>1</td>\n",
       "      <td>2</td>\n",
       "      <td>2</td>\n",
       "      <td>0</td>\n",
       "      <td>40</td>\n",
       "      <td>80.80</td>\n",
       "      <td>3132.75</td>\n",
       "      <td>1</td>\n",
       "      <td>1</td>\n",
       "      <td>0</td>\n",
       "      <td>...</td>\n",
       "      <td>0</td>\n",
       "      <td>1</td>\n",
       "      <td>0</td>\n",
       "      <td>1</td>\n",
       "      <td>0</td>\n",
       "      <td>0</td>\n",
       "      <td>0</td>\n",
       "      <td>0</td>\n",
       "      <td>0</td>\n",
       "      <td>0</td>\n",
       "    </tr>\n",
       "    <tr>\n",
       "      <th>763</th>\n",
       "      <td>3</td>\n",
       "      <td>1</td>\n",
       "      <td>2</td>\n",
       "      <td>0</td>\n",
       "      <td>11</td>\n",
       "      <td>53.80</td>\n",
       "      <td>651.55</td>\n",
       "      <td>0</td>\n",
       "      <td>0</td>\n",
       "      <td>0</td>\n",
       "      <td>...</td>\n",
       "      <td>0</td>\n",
       "      <td>0</td>\n",
       "      <td>0</td>\n",
       "      <td>1</td>\n",
       "      <td>0</td>\n",
       "      <td>1</td>\n",
       "      <td>0</td>\n",
       "      <td>0</td>\n",
       "      <td>0</td>\n",
       "      <td>0</td>\n",
       "    </tr>\n",
       "    <tr>\n",
       "      <th>3935</th>\n",
       "      <td>1</td>\n",
       "      <td>2</td>\n",
       "      <td>1</td>\n",
       "      <td>0</td>\n",
       "      <td>10</td>\n",
       "      <td>88.85</td>\n",
       "      <td>929.45</td>\n",
       "      <td>0</td>\n",
       "      <td>1</td>\n",
       "      <td>1</td>\n",
       "      <td>...</td>\n",
       "      <td>0</td>\n",
       "      <td>0</td>\n",
       "      <td>0</td>\n",
       "      <td>0</td>\n",
       "      <td>0</td>\n",
       "      <td>0</td>\n",
       "      <td>1</td>\n",
       "      <td>1</td>\n",
       "      <td>1</td>\n",
       "      <td>0</td>\n",
       "    </tr>\n",
       "  </tbody>\n",
       "</table>\n",
       "<p>3937 rows × 24 columns</p>\n",
       "</div>"
      ],
      "text/plain": [
       "      payment_type_id  internet_service_type_id  contract_type_id  \\\n",
       "6096                3                         3                 3   \n",
       "1603                2                         1                 1   \n",
       "5350                1                         2                 1   \n",
       "2068                1                         1                 1   \n",
       "6366                2                         3                 2   \n",
       "...               ...                       ...               ...   \n",
       "296                 3                         1                 3   \n",
       "4200                3                         2                 1   \n",
       "3012                1                         2                 2   \n",
       "763                 3                         1                 2   \n",
       "3935                1                         2                 1   \n",
       "\n",
       "      senior_citizen  tenure  monthly_charges  total_charges  gender_Male  \\\n",
       "6096               0      70            19.45        1303.50            0   \n",
       "1603               0      15            69.50        1071.40            1   \n",
       "5350               1      52           109.10        5647.95            0   \n",
       "2068               0      39            40.60        1494.50            1   \n",
       "6366               0      32            19.30         593.20            0   \n",
       "...              ...     ...              ...            ...          ...   \n",
       "296                0      71            89.90        6342.70            0   \n",
       "4200               1      16            71.80        1167.80            1   \n",
       "3012               0      40            80.80        3132.75            1   \n",
       "763                0      11            53.80         651.55            0   \n",
       "3935               0      10            88.85         929.45            0   \n",
       "\n",
       "      partner_Yes  dependents_Yes  ...  online_backup_No internet service  \\\n",
       "6096            1               0  ...                                  1   \n",
       "1603            1               1  ...                                  0   \n",
       "5350            1               0  ...                                  0   \n",
       "2068            0               0  ...                                  0   \n",
       "6366            1               0  ...                                  1   \n",
       "...           ...             ...  ...                                ...   \n",
       "296             1               1  ...                                  0   \n",
       "4200            1               0  ...                                  0   \n",
       "3012            1               0  ...                                  0   \n",
       "763             0               0  ...                                  0   \n",
       "3935            1               1  ...                                  0   \n",
       "\n",
       "      online_backup_Yes  device_protection_No internet service  \\\n",
       "6096                  0                                      1   \n",
       "1603                  1                                      0   \n",
       "5350                  1                                      0   \n",
       "2068                  0                                      0   \n",
       "6366                  0                                      1   \n",
       "...                 ...                                    ...   \n",
       "296                   1                                      0   \n",
       "4200                  0                                      0   \n",
       "3012                  1                                      0   \n",
       "763                   0                                      0   \n",
       "3935                  0                                      0   \n",
       "\n",
       "      device_protection_Yes  tech_support_No internet service  \\\n",
       "6096                      0                                 1   \n",
       "1603                      1                                 0   \n",
       "5350                      1                                 0   \n",
       "2068                      0                                 0   \n",
       "6366                      0                                 1   \n",
       "...                     ...                               ...   \n",
       "296                       1                                 0   \n",
       "4200                      0                                 0   \n",
       "3012                      1                                 0   \n",
       "763                       1                                 0   \n",
       "3935                      0                                 0   \n",
       "\n",
       "      tech_support_Yes  streaming_tv_Yes  streaming_movies_Yes  \\\n",
       "6096                 0                 0                     0   \n",
       "1603                 1                 0                     1   \n",
       "5350                 0                 1                     1   \n",
       "2068                 1                 0                     1   \n",
       "6366                 0                 0                     0   \n",
       "...                ...               ...                   ...   \n",
       "296                  1                 1                     1   \n",
       "4200                 0                 0                     0   \n",
       "3012                 0                 0                     0   \n",
       "763                  1                 0                     0   \n",
       "3935                 0                 1                     1   \n",
       "\n",
       "      paperless_billing_Yes  churn  \n",
       "6096                      0      0  \n",
       "1603                      1      0  \n",
       "5350                      1      0  \n",
       "2068                      1      0  \n",
       "6366                      0      0  \n",
       "...                     ...    ...  \n",
       "296                       0      0  \n",
       "4200                      1      1  \n",
       "3012                      0      0  \n",
       "763                       0      0  \n",
       "3935                      1      0  \n",
       "\n",
       "[3937 rows x 24 columns]"
      ]
     },
     "execution_count": 5,
     "metadata": {},
     "output_type": "execute_result"
    }
   ],
   "source": [
    "train"
   ]
  },
  {
   "cell_type": "markdown",
   "id": "1240cd5d",
   "metadata": {},
   "source": [
    "# Explore"
   ]
  },
  {
   "cell_type": "markdown",
   "id": "515eaf18",
   "metadata": {},
   "source": [
    "## Question"
   ]
  },
  {
   "cell_type": "markdown",
   "id": "0f9e2b4c",
   "metadata": {},
   "source": [
    "- Are customers with fiber more or less likely to churn?\n",
    "- Do customers who churn have a higher average monthly spend than those who don't?\n",
    "- Are customers with dependents less likely to churn than those who don't?\n",
    "- Are seniors less likely to churn?"
   ]
  },
  {
   "cell_type": "markdown",
   "id": "2a3e20f5",
   "metadata": {},
   "source": [
    "## Visualizations"
   ]
  },
  {
   "cell_type": "code",
   "execution_count": 6,
   "id": "0792e091",
   "metadata": {},
   "outputs": [],
   "source": [
    "### Create df for churned customers, for ease of use in focusing on churned customers\n",
    "churned = train[train.churn == 1]\n",
    "###\n",
    "internet = pd.DataFrame(churned.internet_service_type_id.value_counts())\n",
    "internet = internet.reset_index()\n",
    "internet.rename(columns={'index':'internet_service', 'internet_service_type_id':'count'},inplace = True)\n",
    "\n",
    "dependents = pd.DataFrame(churned.dependents_Yes.value_counts())\n",
    "dependents = dependents.reset_index()\n",
    "dependents.rename(columns = {'index':'has_dependents','dependents_Yes':'count'}, inplace = True)\n",
    "\n",
    "seniors = pd.DataFrame(churned.senior_citizen.value_counts())\n",
    "seniors = seniors.reset_index()\n",
    "seniors.rename(columns = {'index':'senior_citizen','senior_citizen':'count'}, inplace = True)"
   ]
  },
  {
   "cell_type": "markdown",
   "id": "8f515240",
   "metadata": {},
   "source": [
    "### Are customers with fiber more or less likely to churn? Yes"
   ]
  },
  {
   "cell_type": "code",
   "execution_count": 7,
   "id": "d23460d2",
   "metadata": {
    "scrolled": false
   },
   "outputs": [
    {
     "data": {
      "image/png": "[encoded data removed]",
      "text/plain": [
       "<Figure size 720x720 with 1 Axes>"
      ]
     },
     "metadata": {
      "needs_background": "light"
     },
     "output_type": "display_data"
    }
   ],
   "source": [
    "plt.figure(figsize = (10,10))\n",
    "sns.barplot(data = internet, y = 'count',x = internet.internet_service)\n",
    "plt.title('Churned Users by Internet Service')\n",
    "plt.xlabel('Internet Service')\n",
    "plt.ylabel('Churned Users')\n",
    "plt.xticks([0,1,2], ['DSL','Fiber','No Internet']);"
   ]
  },
  {
   "cell_type": "code",
   "execution_count": 8,
   "id": "609858b9",
   "metadata": {},
   "outputs": [
    {
     "data": {
      "image/png": "[encoded data removed]",
      "text/plain": [
       "<Figure size 720x720 with 1 Axes>"
      ]
     },
     "metadata": {
      "needs_background": "light"
     },
     "output_type": "display_data"
    }
   ],
   "source": [
    "plt.figure(figsize=(10,10))\n",
    "sns.barplot(data = dependents, x = dependents.has_dependents, y = 'count')\n",
    "plt.title('Churned Users with Dependents vs Without')\n",
    "plt.xlabel('Dependents')\n",
    "plt.ylabel('Churned Users')\n",
    "plt.xticks(ticks = [0,1], labels = ['No Dependents','Has Dependents']);"
   ]
  },
  {
   "cell_type": "markdown",
   "id": "f0cd7cee",
   "metadata": {},
   "source": [
    "### Are seniors less likely to churn?"
   ]
  },
  {
   "cell_type": "code",
   "execution_count": 9,
   "id": "8eccd962",
   "metadata": {},
   "outputs": [
    {
     "data": {
      "image/png": "[encoded data removed]",
      "text/plain": [
       "<Figure size 720x720 with 1 Axes>"
      ]
     },
     "metadata": {
      "needs_background": "light"
     },
     "output_type": "display_data"
    }
   ],
   "source": [
    "plt.figure(figsize=(10,10))\n",
    "sns.barplot(data = seniors, x = 'senior_citizen', y = 'count')\n",
    "plt.title('Churned Senior Citizens')\n",
    "plt.xlabel('Senior Citizen')\n",
    "plt.ylabel('Churned Users')\n",
    "plt.xticks(ticks = [0,1], labels = ['Not a Senior Citizen','Senior Citizen']);"
   ]
  },
  {
   "cell_type": "markdown",
   "id": "9e621459",
   "metadata": {},
   "source": [
    "## Statistical Tests"
   ]
  },
  {
   "cell_type": "code",
   "execution_count": 10,
   "id": "5749a136",
   "metadata": {},
   "outputs": [],
   "source": [
    "alpha = 0.5"
   ]
  },
  {
   "cell_type": "markdown",
   "id": "db9b007f",
   "metadata": {},
   "source": [
    "### Are customers with fiber more or less likely to churn?\n",
    "\n",
    "- $H_0$: There is no association between \n",
    "- $H_a$: There is an association between"
   ]
  },
  {
   "cell_type": "code",
   "execution_count": 11,
   "id": "63a64c13",
   "metadata": {},
   "outputs": [],
   "source": [
    "observe = pd.crosstab(train.churn, train.internet_service_type_id)"
   ]
  },
  {
   "cell_type": "code",
   "execution_count": 12,
   "id": "e7762ed0",
   "metadata": {},
   "outputs": [],
   "source": [
    "chi2, p, degf, expected = stats.chi2_contingency(observe)"
   ]
  },
  {
   "cell_type": "code",
   "execution_count": 13,
   "id": "7bc83d98",
   "metadata": {},
   "outputs": [
    {
     "name": "stdout",
     "output_type": "stream",
     "text": [
      "Observed\n",
      "\n",
      "[[1102  982  807]\n",
      " [ 266  716   64]]\n",
      "---\n",
      "Expected\n",
      "\n",
      "[[1004 1246  639]\n",
      " [ 363  451  231]]\n",
      "---\n",
      "\n",
      "chi^2 = 412.2908\n",
      "p     = 0.0000\n"
     ]
    }
   ],
   "source": [
    "print('Observed\\n')\n",
    "print(observe.values)\n",
    "print('---\\nExpected\\n')\n",
    "print(expected.astype(int))\n",
    "print('---\\n')\n",
    "print(f'chi^2 = {chi2:.4f}')\n",
    "print(f'p     = {p:.4f}')"
   ]
  },
  {
   "cell_type": "code",
   "execution_count": 14,
   "id": "ced9874e",
   "metadata": {},
   "outputs": [
    {
     "name": "stdout",
     "output_type": "stream",
     "text": [
      "We reject the null hypothesis.\n"
     ]
    }
   ],
   "source": [
    "if p < alpha:\n",
    "    print(\"We reject the null hypothesis.\")\n",
    "else:\n",
    "    print(\"We fail to reject the null hypothesis/\")"
   ]
  },
  {
   "cell_type": "markdown",
   "id": "5b19f1ff",
   "metadata": {},
   "source": [
    "### Do customers who churn have a higher average monthly spend than those who don't?"
   ]
  },
  {
   "cell_type": "code",
   "execution_count": 15,
   "id": "13d80ed7",
   "metadata": {},
   "outputs": [
    {
     "data": {
      "text/plain": [
       "churn\n",
       "0    60.764182\n",
       "1    73.662428\n",
       "Name: monthly_charges, dtype: float64"
      ]
     },
     "execution_count": 15,
     "metadata": {},
     "output_type": "execute_result"
    }
   ],
   "source": [
    "# Answer by comparing averages\n",
    "train.groupby(train.churn).monthly_charges.mean()"
   ]
  },
  {
   "cell_type": "markdown",
   "id": "1b241c6b",
   "metadata": {},
   "source": [
    "#### Does monthly_charges correlate with churn?\n",
    "- $H_0$: There is no association between monthly charges and churn \n",
    "- $H_a$: There is an association between monthly charges and churn"
   ]
  },
  {
   "cell_type": "code",
   "execution_count": 16,
   "id": "1989cd7b",
   "metadata": {},
   "outputs": [],
   "source": [
    "observe = pd.crosstab(train.churn, train.monthly_charges)"
   ]
  },
  {
   "cell_type": "code",
   "execution_count": 17,
   "id": "b5a8fd70",
   "metadata": {},
   "outputs": [],
   "source": [
    "chi2, p, degf, expected = stats.chi2_contingency(observe)"
   ]
  },
  {
   "cell_type": "code",
   "execution_count": 18,
   "id": "fe3a5890",
   "metadata": {},
   "outputs": [
    {
     "name": "stdout",
     "output_type": "stream",
     "text": [
      "Observed\n",
      "\n",
      "[[1 1 4 ... 1 1 1]\n",
      " [0 0 0 ... 0 0 0]]\n",
      "---\n",
      "Expected\n",
      "\n",
      "[[0 0 2 ... 0 0 0]\n",
      " [0 0 1 ... 0 0 0]]\n",
      "---\n",
      "\n",
      "chi^2 = 1656.6070\n",
      "p     = 0.0000\n"
     ]
    }
   ],
   "source": [
    "print('Observed\\n')\n",
    "print(observe.values)\n",
    "print('---\\nExpected\\n')\n",
    "print(expected.astype(int))\n",
    "print('---\\n')\n",
    "print(f'chi^2 = {chi2:.4f}')\n",
    "print(f'p     = {p:.4f}')"
   ]
  },
  {
   "cell_type": "code",
   "execution_count": 19,
   "id": "ff0cba5f",
   "metadata": {},
   "outputs": [
    {
     "name": "stdout",
     "output_type": "stream",
     "text": [
      "We reject the null hypothesis.\n"
     ]
    }
   ],
   "source": [
    "if p < alpha:\n",
    "    print(\"We reject the null hypothesis.\")\n",
    "else:\n",
    "    print(\"We fail to reject the null hypothesis/\")"
   ]
  },
  {
   "cell_type": "markdown",
   "id": "888f3503",
   "metadata": {},
   "source": [
    "### Are customers with dependents less likely to churn than those who don't?\n",
    "- $H_0$: There is no association between \n",
    "- $H_a$: There is an association between"
   ]
  },
  {
   "cell_type": "code",
   "execution_count": 20,
   "id": "a9eee1f1",
   "metadata": {},
   "outputs": [],
   "source": [
    "observe = pd.crosstab(train.churn, train.dependents_Yes)"
   ]
  },
  {
   "cell_type": "code",
   "execution_count": 21,
   "id": "ac525ae6",
   "metadata": {},
   "outputs": [],
   "source": [
    "chi2, p, degf, expected = stats.chi2_contingency(observe)"
   ]
  },
  {
   "cell_type": "code",
   "execution_count": 22,
   "id": "e158678b",
   "metadata": {},
   "outputs": [
    {
     "name": "stdout",
     "output_type": "stream",
     "text": [
      "Observed\n",
      "\n",
      "[[1898  993]\n",
      " [ 866  180]]\n",
      "---\n",
      "Expected\n",
      "\n",
      "[[2029  861]\n",
      " [ 734  311]]\n",
      "---\n",
      "\n",
      "chi^2 = 107.0541\n",
      "p     = 0.0000\n"
     ]
    }
   ],
   "source": [
    "print('Observed\\n')\n",
    "print(observe.values)\n",
    "print('---\\nExpected\\n')\n",
    "print(expected.astype(int))\n",
    "print('---\\n')\n",
    "print(f'chi^2 = {chi2:.4f}')\n",
    "print(f'p     = {p:.4f}')"
   ]
  },
  {
   "cell_type": "code",
   "execution_count": 23,
   "id": "99c07ddc",
   "metadata": {},
   "outputs": [
    {
     "name": "stdout",
     "output_type": "stream",
     "text": [
      "We reject the null hypothesis.\n"
     ]
    }
   ],
   "source": [
    "if p < alpha:\n",
    "    print(\"We reject the null hypothesis.\")\n",
    "else:\n",
    "    print(\"We fail to reject the null hypothesis/\")"
   ]
  },
  {
   "cell_type": "markdown",
   "id": "15bc1f9e",
   "metadata": {},
   "source": [
    "### Are seniors less likely to churn?\n",
    "- $H_0$: There is no association between \n",
    "- $H_a$: There is an association between"
   ]
  },
  {
   "cell_type": "code",
   "execution_count": 24,
   "id": "0540a51a",
   "metadata": {},
   "outputs": [],
   "source": [
    "observe = pd.crosstab(train.churn, train.senior_citizen)"
   ]
  },
  {
   "cell_type": "code",
   "execution_count": 25,
   "id": "8cd7d9f4",
   "metadata": {},
   "outputs": [],
   "source": [
    "chi2, p, degf, expected = stats.chi2_contingency(observe)"
   ]
  },
  {
   "cell_type": "code",
   "execution_count": 26,
   "id": "92edb6d1",
   "metadata": {},
   "outputs": [
    {
     "name": "stdout",
     "output_type": "stream",
     "text": [
      "Observed\n",
      "\n",
      "[[2524  367]\n",
      " [ 766  280]]\n",
      "---\n",
      "Expected\n",
      "\n",
      "[[2415  475]\n",
      " [ 874  171]]\n",
      "---\n",
      "\n",
      "chi^2 = 109.7635\n",
      "p     = 0.0000\n"
     ]
    }
   ],
   "source": [
    "print('Observed\\n')\n",
    "print(observe.values)\n",
    "print('---\\nExpected\\n')\n",
    "print(expected.astype(int))\n",
    "print('---\\n')\n",
    "print(f'chi^2 = {chi2:.4f}')\n",
    "print(f'p     = {p:.4f}')"
   ]
  },
  {
   "cell_type": "code",
   "execution_count": 27,
   "id": "a69d3165",
   "metadata": {},
   "outputs": [
    {
     "name": "stdout",
     "output_type": "stream",
     "text": [
      "We reject the null hypothesis.\n"
     ]
    }
   ],
   "source": [
    "if p < alpha:\n",
    "    print(\"We reject the null hypothesis.\")\n",
    "else:\n",
    "    print(\"We fail to reject the null hypothesis/\")"
   ]
  },
  {
   "cell_type": "markdown",
   "id": "18ea2152",
   "metadata": {},
   "source": [
    "## Summary"
   ]
  },
  {
   "cell_type": "code",
   "execution_count": null,
   "id": "b173ed73",
   "metadata": {},
   "outputs": [],
   "source": []
  },
  {
   "cell_type": "markdown",
   "id": "acba3f2c",
   "metadata": {},
   "source": [
    "# Model"
   ]
  },
  {
   "cell_type": "markdown",
   "id": "d3e248b3",
   "metadata": {},
   "source": [
    "## Evaluate Baseline"
   ]
  },
  {
   "cell_type": "code",
   "execution_count": 36,
   "id": "6b4b69c4",
   "metadata": {},
   "outputs": [],
   "source": [
    "# establish baseline\n",
    "train['baseline'] = train.churn.value_counts().idxmax()"
   ]
  },
  {
   "cell_type": "code",
   "execution_count": 38,
   "id": "c8c53e15",
   "metadata": {},
   "outputs": [
    {
     "data": {
      "text/html": [
       "<div>\n",
       "<style scoped>\n",
       "    .dataframe tbody tr th:only-of-type {\n",
       "        vertical-align: middle;\n",
       "    }\n",
       "\n",
       "    .dataframe tbody tr th {\n",
       "        vertical-align: top;\n",
       "    }\n",
       "\n",
       "    .dataframe thead th {\n",
       "        text-align: right;\n",
       "    }\n",
       "</style>\n",
       "<table border=\"1\" class=\"dataframe\">\n",
       "  <thead>\n",
       "    <tr style=\"text-align: right;\">\n",
       "      <th>baseline</th>\n",
       "      <th>0</th>\n",
       "    </tr>\n",
       "    <tr>\n",
       "      <th>churn</th>\n",
       "      <th></th>\n",
       "    </tr>\n",
       "  </thead>\n",
       "  <tbody>\n",
       "    <tr>\n",
       "      <th>0</th>\n",
       "      <td>2891</td>\n",
       "    </tr>\n",
       "    <tr>\n",
       "      <th>1</th>\n",
       "      <td>1046</td>\n",
       "    </tr>\n",
       "  </tbody>\n",
       "</table>\n",
       "</div>"
      ],
      "text/plain": [
       "baseline     0\n",
       "churn         \n",
       "0         2891\n",
       "1         1046"
      ]
     },
     "execution_count": 38,
     "metadata": {},
     "output_type": "execute_result"
    }
   ],
   "source": [
    "pd.crosstab(train.churn, train.baseline)"
   ]
  },
  {
   "cell_type": "code",
   "execution_count": 40,
   "id": "e20e743d",
   "metadata": {},
   "outputs": [
    {
     "data": {
      "text/plain": [
       "0.7343154686309372"
      ]
     },
     "execution_count": 40,
     "metadata": {},
     "output_type": "execute_result"
    }
   ],
   "source": [
    "accuracy_score(train.churn, train.baseline)"
   ]
  },
  {
   "cell_type": "code",
   "execution_count": 41,
   "id": "ec48a0f3",
   "metadata": {},
   "outputs": [],
   "source": [
    "X_train = train.drop(columns=['churn'])\n",
    "y_train = train.churn\n",
    "\n",
    "X_validate = validate.drop(columns=['churn'])\n",
    "y_validate = validate.churn\n",
    "\n",
    "X_test = test.drop(columns=['churn'])\n",
    "y_test = test.churn"
   ]
  },
  {
   "cell_type": "markdown",
   "id": "e45e2175",
   "metadata": {},
   "source": [
    "## Decision Tree"
   ]
  },
  {
   "cell_type": "code",
   "execution_count": 52,
   "id": "77eb7d83",
   "metadata": {},
   "outputs": [],
   "source": [
    "clf = DecisionTreeClassifier(max_depth=3, random_state=123)"
   ]
  },
  {
   "cell_type": "code",
   "execution_count": 44,
   "id": "751a65af",
   "metadata": {},
   "outputs": [],
   "source": [
    "clf = clf.fit(X_train, y_train)"
   ]
  },
  {
   "cell_type": "code",
   "execution_count": 47,
   "id": "44834e3e",
   "metadata": {},
   "outputs": [],
   "source": [
    "y_pred = clf.predict(X_train)"
   ]
  },
  {
   "cell_type": "code",
   "execution_count": 48,
   "id": "0ad18086",
   "metadata": {},
   "outputs": [],
   "source": [
    "y_pred_proba = clf.predict_proba(X_train)"
   ]
  },
  {
   "cell_type": "code",
   "execution_count": 49,
   "id": "178e491d",
   "metadata": {},
   "outputs": [
    {
     "data": {
      "text/plain": [
       "0    2891\n",
       "1    1046\n",
       "Name: churn, dtype: int64"
      ]
     },
     "execution_count": 49,
     "metadata": {},
     "output_type": "execute_result"
    }
   ],
   "source": [
    "y_train.value_counts()"
   ]
  },
  {
   "cell_type": "code",
   "execution_count": 50,
   "id": "b13aecae",
   "metadata": {},
   "outputs": [
    {
     "data": {
      "text/html": [
       "<div>\n",
       "<style scoped>\n",
       "    .dataframe tbody tr th:only-of-type {\n",
       "        vertical-align: middle;\n",
       "    }\n",
       "\n",
       "    .dataframe tbody tr th {\n",
       "        vertical-align: top;\n",
       "    }\n",
       "\n",
       "    .dataframe thead th {\n",
       "        text-align: right;\n",
       "    }\n",
       "</style>\n",
       "<table border=\"1\" class=\"dataframe\">\n",
       "  <thead>\n",
       "    <tr style=\"text-align: right;\">\n",
       "      <th></th>\n",
       "      <th>0</th>\n",
       "      <th>1</th>\n",
       "    </tr>\n",
       "  </thead>\n",
       "  <tbody>\n",
       "    <tr>\n",
       "      <th>0</th>\n",
       "      <td>2737</td>\n",
       "      <td>154</td>\n",
       "    </tr>\n",
       "    <tr>\n",
       "      <th>1</th>\n",
       "      <td>683</td>\n",
       "      <td>363</td>\n",
       "    </tr>\n",
       "  </tbody>\n",
       "</table>\n",
       "</div>"
      ],
      "text/plain": [
       "      0    1\n",
       "0  2737  154\n",
       "1   683  363"
      ]
     },
     "execution_count": 50,
     "metadata": {},
     "output_type": "execute_result"
    }
   ],
   "source": [
    "labels = sorted(y_train.unique())\n",
    "pd.DataFrame(sklearn.metrics.confusion_matrix(y_train,y_pred), index=labels, columns = labels)"
   ]
  },
  {
   "cell_type": "code",
   "execution_count": 51,
   "id": "027a7c2e",
   "metadata": {},
   "outputs": [
    {
     "name": "stdout",
     "output_type": "stream",
     "text": [
      "              precision    recall  f1-score   support\n",
      "\n",
      "           0       0.80      0.95      0.87      2891\n",
      "           1       0.70      0.35      0.46      1046\n",
      "\n",
      "    accuracy                           0.79      3937\n",
      "   macro avg       0.75      0.65      0.67      3937\n",
      "weighted avg       0.77      0.79      0.76      3937\n",
      "\n"
     ]
    }
   ],
   "source": [
    "print(sklearn.metrics.classification_report(y_train, y_pred))"
   ]
  },
  {
   "cell_type": "markdown",
   "id": "f6ed643d",
   "metadata": {},
   "source": [
    "## Random Forest"
   ]
  },
  {
   "cell_type": "code",
   "execution_count": 56,
   "id": "634f4efb",
   "metadata": {},
   "outputs": [],
   "source": [
    "rf = RandomForestClassifier(random_state=123)"
   ]
  },
  {
   "cell_type": "code",
   "execution_count": 57,
   "id": "a2901883",
   "metadata": {},
   "outputs": [
    {
     "data": {
      "text/plain": [
       "RandomForestClassifier(random_state=123)"
      ]
     },
     "execution_count": 57,
     "metadata": {},
     "output_type": "execute_result"
    }
   ],
   "source": [
    "rf = rf.fit(X_train, y_train)"
   ]
  },
  {
   "cell_type": "code",
   "execution_count": 58,
   "id": "8dfcd39c",
   "metadata": {},
   "outputs": [],
   "source": [
    "y_pred = rf.predict(X_train)"
   ]
  },
  {
   "cell_type": "code",
   "execution_count": 59,
   "id": "6218c97e",
   "metadata": {},
   "outputs": [],
   "source": [
    "y_pred_proba = rf.predict_proba(X_train)"
   ]
  },
  {
   "cell_type": "code",
   "execution_count": 60,
   "id": "21d11dbd",
   "metadata": {},
   "outputs": [
    {
     "data": {
      "text/plain": [
       "0.9979679959359918"
      ]
     },
     "execution_count": 60,
     "metadata": {},
     "output_type": "execute_result"
    }
   ],
   "source": [
    "rf.score(X_train, y_train)"
   ]
  },
  {
   "cell_type": "code",
   "execution_count": 61,
   "id": "455cf076",
   "metadata": {},
   "outputs": [
    {
     "name": "stdout",
     "output_type": "stream",
     "text": [
      "              precision    recall  f1-score   support\n",
      "\n",
      "           0       1.00      1.00      1.00      2891\n",
      "           1       1.00      0.99      1.00      1046\n",
      "\n",
      "    accuracy                           1.00      3937\n",
      "   macro avg       1.00      1.00      1.00      3937\n",
      "weighted avg       1.00      1.00      1.00      3937\n",
      "\n"
     ]
    }
   ],
   "source": [
    "print(sklearn.metrics.classification_report(y_train, y_pred))"
   ]
  },
  {
   "cell_type": "code",
   "execution_count": 62,
   "id": "57b99e20",
   "metadata": {},
   "outputs": [
    {
     "data": {
      "text/html": [
       "<div>\n",
       "<style scoped>\n",
       "    .dataframe tbody tr th:only-of-type {\n",
       "        vertical-align: middle;\n",
       "    }\n",
       "\n",
       "    .dataframe tbody tr th {\n",
       "        vertical-align: top;\n",
       "    }\n",
       "\n",
       "    .dataframe thead th {\n",
       "        text-align: right;\n",
       "    }\n",
       "</style>\n",
       "<table border=\"1\" class=\"dataframe\">\n",
       "  <thead>\n",
       "    <tr style=\"text-align: right;\">\n",
       "      <th></th>\n",
       "      <th>0</th>\n",
       "      <th>1</th>\n",
       "    </tr>\n",
       "  </thead>\n",
       "  <tbody>\n",
       "    <tr>\n",
       "      <th>0</th>\n",
       "      <td>2889</td>\n",
       "      <td>2</td>\n",
       "    </tr>\n",
       "    <tr>\n",
       "      <th>1</th>\n",
       "      <td>6</td>\n",
       "      <td>1040</td>\n",
       "    </tr>\n",
       "  </tbody>\n",
       "</table>\n",
       "</div>"
      ],
      "text/plain": [
       "      0     1\n",
       "0  2889     2\n",
       "1     6  1040"
      ]
     },
     "execution_count": 62,
     "metadata": {},
     "output_type": "execute_result"
    }
   ],
   "source": [
    "pd.DataFrame(sklearn.metrics.confusion_matrix(y_train,y_pred))"
   ]
  },
  {
   "cell_type": "markdown",
   "id": "9dccec56",
   "metadata": {},
   "source": [
    "## Logistic Regression"
   ]
  },
  {
   "cell_type": "code",
   "execution_count": 63,
   "id": "971aed03",
   "metadata": {},
   "outputs": [],
   "source": [
    "logit = LogisticRegression(random_state = 123)"
   ]
  },
  {
   "cell_type": "code",
   "execution_count": 64,
   "id": "51faf62b",
   "metadata": {},
   "outputs": [
    {
     "data": {
      "text/html": [
       "<div>\n",
       "<style scoped>\n",
       "    .dataframe tbody tr th:only-of-type {\n",
       "        vertical-align: middle;\n",
       "    }\n",
       "\n",
       "    .dataframe tbody tr th {\n",
       "        vertical-align: top;\n",
       "    }\n",
       "\n",
       "    .dataframe thead th {\n",
       "        text-align: right;\n",
       "    }\n",
       "</style>\n",
       "<table border=\"1\" class=\"dataframe\">\n",
       "  <thead>\n",
       "    <tr style=\"text-align: right;\">\n",
       "      <th></th>\n",
       "      <th>payment_type_id</th>\n",
       "      <th>internet_service_type_id</th>\n",
       "      <th>contract_type_id</th>\n",
       "      <th>senior_citizen</th>\n",
       "      <th>tenure</th>\n",
       "      <th>monthly_charges</th>\n",
       "      <th>total_charges</th>\n",
       "      <th>gender_Male</th>\n",
       "      <th>partner_Yes</th>\n",
       "      <th>dependents_Yes</th>\n",
       "      <th>...</th>\n",
       "      <th>online_backup_Yes</th>\n",
       "      <th>device_protection_No internet service</th>\n",
       "      <th>device_protection_Yes</th>\n",
       "      <th>tech_support_No internet service</th>\n",
       "      <th>tech_support_Yes</th>\n",
       "      <th>streaming_tv_Yes</th>\n",
       "      <th>streaming_movies_Yes</th>\n",
       "      <th>paperless_billing_Yes</th>\n",
       "      <th>churn</th>\n",
       "      <th>baseline</th>\n",
       "    </tr>\n",
       "  </thead>\n",
       "  <tbody>\n",
       "    <tr>\n",
       "      <th>6096</th>\n",
       "      <td>3</td>\n",
       "      <td>3</td>\n",
       "      <td>3</td>\n",
       "      <td>0</td>\n",
       "      <td>70</td>\n",
       "      <td>19.45</td>\n",
       "      <td>1303.50</td>\n",
       "      <td>0</td>\n",
       "      <td>1</td>\n",
       "      <td>0</td>\n",
       "      <td>...</td>\n",
       "      <td>0</td>\n",
       "      <td>1</td>\n",
       "      <td>0</td>\n",
       "      <td>1</td>\n",
       "      <td>0</td>\n",
       "      <td>0</td>\n",
       "      <td>0</td>\n",
       "      <td>0</td>\n",
       "      <td>0</td>\n",
       "      <td>0</td>\n",
       "    </tr>\n",
       "    <tr>\n",
       "      <th>1603</th>\n",
       "      <td>2</td>\n",
       "      <td>1</td>\n",
       "      <td>1</td>\n",
       "      <td>0</td>\n",
       "      <td>15</td>\n",
       "      <td>69.50</td>\n",
       "      <td>1071.40</td>\n",
       "      <td>1</td>\n",
       "      <td>1</td>\n",
       "      <td>1</td>\n",
       "      <td>...</td>\n",
       "      <td>1</td>\n",
       "      <td>0</td>\n",
       "      <td>1</td>\n",
       "      <td>0</td>\n",
       "      <td>1</td>\n",
       "      <td>0</td>\n",
       "      <td>1</td>\n",
       "      <td>1</td>\n",
       "      <td>0</td>\n",
       "      <td>0</td>\n",
       "    </tr>\n",
       "    <tr>\n",
       "      <th>5350</th>\n",
       "      <td>1</td>\n",
       "      <td>2</td>\n",
       "      <td>1</td>\n",
       "      <td>1</td>\n",
       "      <td>52</td>\n",
       "      <td>109.10</td>\n",
       "      <td>5647.95</td>\n",
       "      <td>0</td>\n",
       "      <td>1</td>\n",
       "      <td>0</td>\n",
       "      <td>...</td>\n",
       "      <td>1</td>\n",
       "      <td>0</td>\n",
       "      <td>1</td>\n",
       "      <td>0</td>\n",
       "      <td>0</td>\n",
       "      <td>1</td>\n",
       "      <td>1</td>\n",
       "      <td>1</td>\n",
       "      <td>0</td>\n",
       "      <td>0</td>\n",
       "    </tr>\n",
       "    <tr>\n",
       "      <th>2068</th>\n",
       "      <td>1</td>\n",
       "      <td>1</td>\n",
       "      <td>1</td>\n",
       "      <td>0</td>\n",
       "      <td>39</td>\n",
       "      <td>40.60</td>\n",
       "      <td>1494.50</td>\n",
       "      <td>1</td>\n",
       "      <td>0</td>\n",
       "      <td>0</td>\n",
       "      <td>...</td>\n",
       "      <td>0</td>\n",
       "      <td>0</td>\n",
       "      <td>0</td>\n",
       "      <td>0</td>\n",
       "      <td>1</td>\n",
       "      <td>0</td>\n",
       "      <td>1</td>\n",
       "      <td>1</td>\n",
       "      <td>0</td>\n",
       "      <td>0</td>\n",
       "    </tr>\n",
       "    <tr>\n",
       "      <th>6366</th>\n",
       "      <td>2</td>\n",
       "      <td>3</td>\n",
       "      <td>2</td>\n",
       "      <td>0</td>\n",
       "      <td>32</td>\n",
       "      <td>19.30</td>\n",
       "      <td>593.20</td>\n",
       "      <td>0</td>\n",
       "      <td>1</td>\n",
       "      <td>0</td>\n",
       "      <td>...</td>\n",
       "      <td>0</td>\n",
       "      <td>1</td>\n",
       "      <td>0</td>\n",
       "      <td>1</td>\n",
       "      <td>0</td>\n",
       "      <td>0</td>\n",
       "      <td>0</td>\n",
       "      <td>0</td>\n",
       "      <td>0</td>\n",
       "      <td>0</td>\n",
       "    </tr>\n",
       "  </tbody>\n",
       "</table>\n",
       "<p>5 rows × 25 columns</p>\n",
       "</div>"
      ],
      "text/plain": [
       "      payment_type_id  internet_service_type_id  contract_type_id  \\\n",
       "6096                3                         3                 3   \n",
       "1603                2                         1                 1   \n",
       "5350                1                         2                 1   \n",
       "2068                1                         1                 1   \n",
       "6366                2                         3                 2   \n",
       "\n",
       "      senior_citizen  tenure  monthly_charges  total_charges  gender_Male  \\\n",
       "6096               0      70            19.45        1303.50            0   \n",
       "1603               0      15            69.50        1071.40            1   \n",
       "5350               1      52           109.10        5647.95            0   \n",
       "2068               0      39            40.60        1494.50            1   \n",
       "6366               0      32            19.30         593.20            0   \n",
       "\n",
       "      partner_Yes  dependents_Yes  ...  online_backup_Yes  \\\n",
       "6096            1               0  ...                  0   \n",
       "1603            1               1  ...                  1   \n",
       "5350            1               0  ...                  1   \n",
       "2068            0               0  ...                  0   \n",
       "6366            1               0  ...                  0   \n",
       "\n",
       "      device_protection_No internet service  device_protection_Yes  \\\n",
       "6096                                      1                      0   \n",
       "1603                                      0                      1   \n",
       "5350                                      0                      1   \n",
       "2068                                      0                      0   \n",
       "6366                                      1                      0   \n",
       "\n",
       "      tech_support_No internet service  tech_support_Yes  streaming_tv_Yes  \\\n",
       "6096                                 1                 0                 0   \n",
       "1603                                 0                 1                 0   \n",
       "5350                                 0                 0                 1   \n",
       "2068                                 0                 1                 0   \n",
       "6366                                 1                 0                 0   \n",
       "\n",
       "      streaming_movies_Yes  paperless_billing_Yes  churn  baseline  \n",
       "6096                     0                      0      0         0  \n",
       "1603                     1                      1      0         0  \n",
       "5350                     1                      1      0         0  \n",
       "2068                     1                      1      0         0  \n",
       "6366                     0                      0      0         0  \n",
       "\n",
       "[5 rows x 25 columns]"
      ]
     },
     "execution_count": 64,
     "metadata": {},
     "output_type": "execute_result"
    }
   ],
   "source": [
    "train.head()"
   ]
  },
  {
   "cell_type": "code",
   "execution_count": 66,
   "id": "af9813bb",
   "metadata": {},
   "outputs": [],
   "source": [
    "features = ['monthly_charges','internet_service_type_id']"
   ]
  },
  {
   "cell_type": "code",
   "execution_count": 69,
   "id": "a71bef62",
   "metadata": {},
   "outputs": [],
   "source": [
    "logit = logit.fit(X_train[features], y_train)"
   ]
  },
  {
   "cell_type": "code",
   "execution_count": 70,
   "id": "5ae627e2",
   "metadata": {},
   "outputs": [],
   "source": [
    "y_pred = logit.predict(X_train[features])"
   ]
  },
  {
   "cell_type": "code",
   "execution_count": 71,
   "id": "67a297fa",
   "metadata": {},
   "outputs": [
    {
     "data": {
      "text/plain": [
       "0.7343154686309372"
      ]
     },
     "execution_count": 71,
     "metadata": {},
     "output_type": "execute_result"
    }
   ],
   "source": [
    "logit.score(X_train[features], y_train)"
   ]
  },
  {
   "cell_type": "code",
   "execution_count": 72,
   "id": "fb78a674",
   "metadata": {},
   "outputs": [
    {
     "data": {
      "text/plain": [
       "0.7213614427228855"
      ]
     },
     "execution_count": 72,
     "metadata": {},
     "output_type": "execute_result"
    }
   ],
   "source": [
    "features = ['monthly_charges','internet_service_type_id', 'senior_citizen']\n",
    "logit = logit.fit(X_train[features], y_train)\n",
    "y_pred = logit.predict(X_train[features])\n",
    "logit.score(X_train[features], y_train)"
   ]
  },
  {
   "cell_type": "code",
   "execution_count": 73,
   "id": "1e636158",
   "metadata": {},
   "outputs": [
    {
     "data": {
      "text/plain": [
       "0.7233934467868935"
      ]
     },
     "execution_count": 73,
     "metadata": {},
     "output_type": "execute_result"
    }
   ],
   "source": [
    "features = ['monthly_charges','internet_service_type_id', 'senior_citizen', 'dependents_Yes']\n",
    "logit = logit.fit(X_train[features], y_train)\n",
    "y_pred = logit.predict(X_train[features])\n",
    "logit.score(X_train[features], y_train)"
   ]
  },
  {
   "cell_type": "code",
   "execution_count": null,
   "id": "adfd1edc",
   "metadata": {},
   "outputs": [],
   "source": []
  }
 ],
 "metadata": {
  "kernelspec": {
   "display_name": "Python 3",
   "language": "python",
   "name": "python3"
  },
  "language_info": {
   "codemirror_mode": {
    "name": "ipython",
    "version": 3
   },
   "file_extension": ".py",
   "mimetype": "text/x-python",
   "name": "python",
   "nbconvert_exporter": "python",
   "pygments_lexer": "ipython3",
   "version": "3.8.8"
  }
 },
 "nbformat": 4,
 "nbformat_minor": 5
}
