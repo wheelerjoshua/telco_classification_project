{
 "cells": [
  {
   "cell_type": "markdown",
   "id": "ea306623",
   "metadata": {},
   "source": [
    "## Project Goals\n",
    "The goal of this project is to identify drivers of churn for the benefit of creating a solution to reduce the rate of churn among customers. "
   ]
  },
  {
   "cell_type": "markdown",
   "id": "909b3946",
   "metadata": {},
   "source": [
    "## Project Description\n",
    "With an unsteady and increasingly competitive market, it is cheaper to retain current customers than to establish new ones. We will observe various details of customer contracts and discover what may be driving them to churn and will use the information to create a model to predict future customer churn and a recommendation in reducing rate of churn.\n",
    "\n"
   ]
  },
  {
   "cell_type": "markdown",
   "id": "3780eb24",
   "metadata": {},
   "source": [
    "## Initial Questions\n",
    "\n",
    "1. Are customers with fiber more or less likely to churn?\n",
    "2. Do customers who churn have a higher average monthly spend than those who don't?\n",
    "3. Are customers with dependents less likely to churn than those who don't?\n",
    "4. Are seniors less likely to churn?"
   ]
  },
  {
   "cell_type": "markdown",
   "id": "40d09562",
   "metadata": {},
   "source": [
    "## Data Dictionary"
   ]
  },
  {
   "cell_type": "markdown",
   "id": "fe472e92",
   "metadata": {},
   "source": [
    "| variable      | meaning       |\n",
    "| ------------- |:-------------:|\n",
    "|RF|Random Forest modeling algorithm|\n",
    "|KNN|K-Nearest Neighbors modeling algorithm |\n",
    "|Logit |Logistic Regression modeling algorithm|\n",
    "|df|Dataframe of raw telco data from sql server|\n",
    "|train| training dataset, a major cut from the df|\n",
    "|validate| validate dataset, used to prevent overfitting|\n",
    "|test| test dataset, to test the top model on unseen data|\n",
    "|chi2 | statistical test used to compare churn with various categories|"
   ]
  },
  {
   "cell_type": "markdown",
   "id": "f1bc0ef4",
   "metadata": {},
   "source": [
    "## Wrangle Telco Data\n",
    "To acquire the telco data used, I ran a query on the telco_churn database from the mySQL server. I selected all the columns from the customers table and joined the internet service, contract, and payment types."
   ]
  },
  {
   "cell_type": "code",
   "execution_count": 1,
   "id": "3e60abfd",
   "metadata": {},
   "outputs": [],
   "source": [
    "# Import module with function to acquire data from SQL server's telco_churn database\n",
    "import acquire\n",
    "\n",
    "# execute the function and store it in a dataframe\n",
    "df = acquire.get_telco_data()"
   ]
  },
  {
   "cell_type": "markdown",
   "id": "90b66d2c",
   "metadata": {},
   "source": [
    "Cleaning the data was executed in the following steps:\n",
    "- Drop duplicates\n",
    "- Transformed total_charges into a float\n",
    "- Create dummy variables for categorical columns (gender, dependents, etc.)\n",
    "- Drop unnecessary columns (due to dummy vars)"
   ]
  },
  {
   "cell_type": "code",
   "execution_count": 2,
   "id": "cdda52d2",
   "metadata": {},
   "outputs": [],
   "source": [
    "import prepare\n",
    "import pandas as pd\n",
    "\n",
    "df = prepare.prep_telco(df)"
   ]
  },
  {
   "cell_type": "markdown",
   "id": "e3cf8e9b",
   "metadata": {},
   "source": [
    "We then split our data so we can evaluate models without spoiling new data.\n",
    "- Train: Used to build models\n",
    "- Validate: Verify the fit of the model, ensure the model is not overfit\n",
    "- Test: Estimate how well the model performs on never-before-seen data"
   ]
  },
  {
   "cell_type": "code",
   "execution_count": 3,
   "id": "549538bb",
   "metadata": {},
   "outputs": [],
   "source": [
    "train, validate, test = prepare.split_telco(df)"
   ]
  },
  {
   "cell_type": "markdown",
   "id": "4a3377c9",
   "metadata": {},
   "source": [
    "## Our Data Landscape\n",
    "\n",
    "\n",
    "- Of 7032 records, 1869 (26.6%) customers have churned. \n",
    "- The average monthly charges for all users is $64.80. \n",
    "- 3096 Users utilize fiber services.\n",
    "- 2099 Users have dependents\n",
    "- 1142 Users are senior citizens\n"
   ]
  },
  {
   "cell_type": "code",
   "execution_count": 4,
   "id": "d7bd6a5b",
   "metadata": {},
   "outputs": [
    {
     "data": {
      "image/png": "[encoded data removed]",
      "text/plain": [
       "<Figure size 720x720 with 1 Axes>"
      ]
     },
     "metadata": {
      "needs_background": "light"
     },
     "output_type": "display_data"
    }
   ],
   "source": [
    "import matplotlib.pyplot as plt\n",
    "import seaborn as sns\n",
    "\n",
    "df_churn = pd.DataFrame(df.churn.value_counts()).reset_index()\n",
    "plt.figure(figsize = (10,10))\n",
    "sns.barplot(data = df_churn,x = 'index', y = 'churn', palette=('green','red'))\n",
    "plt.title('Telco Users by Churn')\n",
    "plt.xlabel('Churned Users')\n",
    "plt.ylabel('Count')\n",
    "plt.xticks([0,1], ['Have not Churned','Churned']);"
   ]
  },
  {
   "cell_type": "markdown",
   "id": "4e09ca44",
   "metadata": {},
   "source": [
    "## Exploratory analysis: Who is likely to churn?"
   ]
  },
  {
   "cell_type": "markdown",
   "id": "6a2bc92b",
   "metadata": {},
   "source": [
    "### 1. Are customers with fiber more or less likely to churn?\n",
    "\n",
    "- Run a chi-square test for internet service type ID and churn"
   ]
  },
  {
   "cell_type": "code",
   "execution_count": 5,
   "id": "93cb7eb2",
   "metadata": {},
   "outputs": [
    {
     "name": "stdout",
     "output_type": "stream",
     "text": [
      "Observed\n",
      "\n",
      "[[1102  982  807]\n",
      " [ 266  716   64]]\n",
      "------------------\n",
      "Expected\n",
      "\n",
      "[[1004 1246  639]\n",
      " [ 363  451  231]]\n",
      "------------------\n",
      "\n",
      "chi^2 = 412.29\n",
      "p     = 0.00\n"
     ]
    }
   ],
   "source": [
    "from scipy import stats\n",
    "alpha = 0.5\n",
    "\n",
    "observe = pd.crosstab(train.churn, train.internet_service_type_id)\n",
    "chi2, p, degf, expected = stats.chi2_contingency(observe)\n",
    "print('Observed\\n')\n",
    "print(observe.values)\n",
    "print('------------------\\nExpected\\n')\n",
    "print(expected.astype(int))\n",
    "print('------------------\\n')\n",
    "print(f'chi^2 = {chi2:.2f}')\n",
    "print(f'p     = {p:.2f}')"
   ]
  },
  {
   "cell_type": "markdown",
   "id": "cb4a387c",
   "metadata": {},
   "source": [
    "#### Users with Fiber are more likely to churn"
   ]
  },
  {
   "cell_type": "markdown",
   "id": "014ec29e",
   "metadata": {},
   "source": [
    "### 2. Do customers who churn have a higher average monthly spend than those who have not churned?\n",
    "\n",
    "- Group dataframe by churn then average the monthly charges\n",
    "- Run a chi-square test for monthly charges and churn"
   ]
  },
  {
   "cell_type": "code",
   "execution_count": 6,
   "id": "40ef7e30",
   "metadata": {},
   "outputs": [
    {
     "data": {
      "text/plain": [
       "churn\n",
       "0    60.764182\n",
       "1    73.662428\n",
       "Name: monthly_charges, dtype: float64"
      ]
     },
     "execution_count": 6,
     "metadata": {},
     "output_type": "execute_result"
    }
   ],
   "source": [
    "train.groupby(train.churn).monthly_charges.mean()"
   ]
  },
  {
   "cell_type": "code",
   "execution_count": 7,
   "id": "c9cab740",
   "metadata": {},
   "outputs": [
    {
     "name": "stdout",
     "output_type": "stream",
     "text": [
      "Observed\n",
      "\n",
      "[[1 1 4 ... 1 1 1]\n",
      " [0 0 0 ... 0 0 0]]\n",
      "------------------\n",
      "Expected\n",
      "\n",
      "[[0 0 2 ... 0 0 0]\n",
      " [0 0 1 ... 0 0 0]]\n",
      "------------------\n",
      "\n",
      "chi^2 = 1656.61\n",
      "p     = 0.00\n"
     ]
    }
   ],
   "source": [
    "observe = pd.crosstab(train.churn, train.monthly_charges)\n",
    "chi2, p, degf, expected = stats.chi2_contingency(observe)\n",
    "print('Observed\\n')\n",
    "print(observe.values)\n",
    "print('------------------\\nExpected\\n')\n",
    "print(expected.astype(int))\n",
    "print('------------------\\n')\n",
    "print(f'chi^2 = {chi2:.2f}')\n",
    "print(f'p     = {p:.2f}')"
   ]
  },
  {
   "cell_type": "markdown",
   "id": "e642fc42",
   "metadata": {},
   "source": [
    "#### Users who churn have a higher monthly average spend than those who have not churned."
   ]
  },
  {
   "cell_type": "markdown",
   "id": "4c47a657",
   "metadata": {},
   "source": [
    "### 3. Are customers with dependents less likely to churn than those who don't?\n",
    "- Run a chi-square test for dependents and churn"
   ]
  },
  {
   "cell_type": "code",
   "execution_count": 8,
   "id": "1dab7c54",
   "metadata": {},
   "outputs": [
    {
     "name": "stdout",
     "output_type": "stream",
     "text": [
      "Observed\n",
      "\n",
      "[[1898  993]\n",
      " [ 866  180]]\n",
      "------------------\n",
      "Expected\n",
      "\n",
      "[[2029  861]\n",
      " [ 734  311]]\n",
      "------------------\n",
      "\n",
      "chi^2 = 107.05\n",
      "p     = 0.00\n"
     ]
    }
   ],
   "source": [
    "observe = pd.crosstab(train.churn, train.dependents_Yes)\n",
    "chi2, p, degf, expected = stats.chi2_contingency(observe)\n",
    "print('Observed\\n')\n",
    "print(observe.values)\n",
    "print('------------------\\nExpected\\n')\n",
    "print(expected.astype(int))\n",
    "print('------------------\\n')\n",
    "print(f'chi^2 = {chi2:.2f}')\n",
    "print(f'p     = {p:.2f}')"
   ]
  },
  {
   "cell_type": "markdown",
   "id": "1f66eeee",
   "metadata": {},
   "source": [
    "#### Users who have dependents are less likely to churn."
   ]
  },
  {
   "cell_type": "markdown",
   "id": "204dedc1",
   "metadata": {},
   "source": [
    "### 4. Are seniors less likely to churn?\n",
    "- Run a chi-square test for senior citizen and churn"
   ]
  },
  {
   "cell_type": "code",
   "execution_count": 9,
   "id": "303b74df",
   "metadata": {},
   "outputs": [
    {
     "name": "stdout",
     "output_type": "stream",
     "text": [
      "Observed\n",
      "\n",
      "[[2524  367]\n",
      " [ 766  280]]\n",
      "------------------\n",
      "Expected\n",
      "\n",
      "[[2415  475]\n",
      " [ 874  171]]\n",
      "------------------\n",
      "\n",
      "chi^2 = 109.76\n",
      "p     = 0.00\n"
     ]
    }
   ],
   "source": [
    "observe = pd.crosstab(train.churn, train.senior_citizen)\n",
    "chi2, p, degf, expected = stats.chi2_contingency(observe)\n",
    "print('Observed\\n')\n",
    "print(observe.values)\n",
    "print('------------------\\nExpected\\n')\n",
    "print(expected.astype(int))\n",
    "print('------------------\\n')\n",
    "print(f'chi^2 = {chi2:.2f}')\n",
    "print(f'p     = {p:.2f}')"
   ]
  },
  {
   "cell_type": "markdown",
   "id": "ff94e81d",
   "metadata": {},
   "source": [
    "#### Senior citizens are less likely to churn"
   ]
  },
  {
   "cell_type": "markdown",
   "id": "133395a8",
   "metadata": {},
   "source": [
    "### Summary: Who IS most likely to churn?\n",
    "\n",
    "Users who churn the most are users with higher monthly charges and users with fiber internet services."
   ]
  },
  {
   "cell_type": "markdown",
   "id": "3251f115",
   "metadata": {},
   "source": [
    "## Predicting Churn\n",
    "We are using classification machine learning algorithms to answer this boolean value question. The models will be fit on a training dataset and then validated with a separate dataset to ensure there is no overfitting. We will focus on recall, with the model aiming for best identifiers for churn."
   ]
  },
  {
   "cell_type": "code",
   "execution_count": 10,
   "id": "b0dd0756",
   "metadata": {},
   "outputs": [],
   "source": [
    "from sklearn.model_selection import train_test_split\n",
    "from sklearn.tree import DecisionTreeClassifier\n",
    "from sklearn.ensemble import RandomForestClassifier\n",
    "from sklearn.neighbors import KNeighborsClassifier\n",
    "from sklearn.linear_model import LogisticRegression\n",
    "from sklearn.metrics import classification_report\n",
    "from sklearn.metrics import confusion_matrix\n",
    "from sklearn.metrics import accuracy_score"
   ]
  },
  {
   "cell_type": "markdown",
   "id": "a81d1f9e",
   "metadata": {},
   "source": [
    "### Baseline\n",
    "A baseline is evaluated with the assumption nobody churns and we will examine the accuracy of that."
   ]
  },
  {
   "cell_type": "code",
   "execution_count": 11,
   "id": "53a21559",
   "metadata": {},
   "outputs": [],
   "source": [
    "# establish baseline\n",
    "train['baseline'] = train.churn.value_counts().idxmax()"
   ]
  },
  {
   "cell_type": "code",
   "execution_count": 12,
   "id": "6a6e43a3",
   "metadata": {},
   "outputs": [
    {
     "data": {
      "text/html": [
       "<div>\n",
       "<style scoped>\n",
       "    .dataframe tbody tr th:only-of-type {\n",
       "        vertical-align: middle;\n",
       "    }\n",
       "\n",
       "    .dataframe tbody tr th {\n",
       "        vertical-align: top;\n",
       "    }\n",
       "\n",
       "    .dataframe thead th {\n",
       "        text-align: right;\n",
       "    }\n",
       "</style>\n",
       "<table border=\"1\" class=\"dataframe\">\n",
       "  <thead>\n",
       "    <tr style=\"text-align: right;\">\n",
       "      <th>baseline</th>\n",
       "      <th>0</th>\n",
       "    </tr>\n",
       "    <tr>\n",
       "      <th>churn</th>\n",
       "      <th></th>\n",
       "    </tr>\n",
       "  </thead>\n",
       "  <tbody>\n",
       "    <tr>\n",
       "      <th>0</th>\n",
       "      <td>2891</td>\n",
       "    </tr>\n",
       "    <tr>\n",
       "      <th>1</th>\n",
       "      <td>1046</td>\n",
       "    </tr>\n",
       "  </tbody>\n",
       "</table>\n",
       "</div>"
      ],
      "text/plain": [
       "baseline     0\n",
       "churn         \n",
       "0         2891\n",
       "1         1046"
      ]
     },
     "execution_count": 12,
     "metadata": {},
     "output_type": "execute_result"
    }
   ],
   "source": [
    "# examine the baseline predictions vs. the churned in our training dataset\n",
    "pd.crosstab(train.churn, train.baseline)"
   ]
  },
  {
   "cell_type": "code",
   "execution_count": 13,
   "id": "298b0119",
   "metadata": {},
   "outputs": [
    {
     "data": {
      "text/plain": [
       "0.7343154686309372"
      ]
     },
     "execution_count": 13,
     "metadata": {},
     "output_type": "execute_result"
    }
   ],
   "source": [
    "# evaluate accuracy of baseline predictions made on training dataset\n",
    "accuracy_score(train.churn, train.baseline)"
   ]
  },
  {
   "cell_type": "code",
   "execution_count": 14,
   "id": "e8edc7e7",
   "metadata": {},
   "outputs": [],
   "source": [
    "train.drop(columns = 'baseline', inplace = True)"
   ]
  },
  {
   "cell_type": "markdown",
   "id": "e1e853b5",
   "metadata": {},
   "source": [
    "## Three Models\n",
    "The best performing models were K-Nearest Neighbors, Random Forest, and Logistic Regression. The K-Nearest Neighbors  performed the best on our train dataset at 79% accuracy and 96% recall. The random forest that predicted based on the specified features was overfit, so the model was tested over the entire dataset. This applies to the Logistic Regression model as well. The KNN performed best with the features included and was not overfit."
   ]
  },
  {
   "cell_type": "code",
   "execution_count": 15,
   "id": "ee93f348",
   "metadata": {},
   "outputs": [],
   "source": [
    "# Create X and y train columns for train, validate, test sets where y is target and x is predictors\n",
    "X_train = train.drop(columns=['churn'])\n",
    "y_train = train.churn\n",
    "\n",
    "X_validate = validate.drop(columns=['churn'])\n",
    "y_validate = validate.churn\n",
    "\n",
    "X_test = test.drop(columns=['churn'])\n",
    "y_test = test.churn\n",
    "\n",
    "# Establish target features\n",
    "features = ['monthly_charges', 'internet_service_type_id', 'senior_citizen', 'dependents_Yes']"
   ]
  },
  {
   "cell_type": "markdown",
   "id": "4b2acfc5",
   "metadata": {},
   "source": [
    "### Logistic Regression"
   ]
  },
  {
   "cell_type": "markdown",
   "id": "1aa94633",
   "metadata": {},
   "source": [
    "#### Evaluate on Train"
   ]
  },
  {
   "cell_type": "code",
   "execution_count": 16,
   "id": "f7e61727",
   "metadata": {
    "scrolled": true
   },
   "outputs": [
    {
     "name": "stdout",
     "output_type": "stream",
     "text": [
      "              precision    recall  f1-score   support\n",
      "\n",
      "           0       0.84      0.90      0.87      2891\n",
      "           1       0.65      0.54      0.59      1046\n",
      "\n",
      "    accuracy                           0.80      3937\n",
      "   macro avg       0.75      0.72      0.73      3937\n",
      "weighted avg       0.79      0.80      0.79      3937\n",
      "\n"
     ]
    }
   ],
   "source": [
    "# Create the logistic regression model\n",
    "logit = LogisticRegression(random_state = 123)\n",
    "# Fit the model to predictors and target\n",
    "logit = logit.fit(X_train, y_train)\n",
    "# Predict outcomes\n",
    "y_pred = logit.predict(X_train)\n",
    "# Predicted estimates\n",
    "y_pred_probability = logit.predict_proba(X_train)\n",
    "\n",
    "# Print scoring\n",
    "print(classification_report(y_train, y_pred))"
   ]
  },
  {
   "cell_type": "markdown",
   "id": "d3d3d4bb",
   "metadata": {},
   "source": [
    "#### Evaluate on Validate"
   ]
  },
  {
   "cell_type": "code",
   "execution_count": 17,
   "id": "d4684665",
   "metadata": {
    "scrolled": true
   },
   "outputs": [
    {
     "name": "stdout",
     "output_type": "stream",
     "text": [
      "              precision    recall  f1-score   support\n",
      "\n",
      "           0       0.84      0.88      0.86      1239\n",
      "           1       0.63      0.55      0.59       449\n",
      "\n",
      "    accuracy                           0.79      1688\n",
      "   macro avg       0.73      0.72      0.72      1688\n",
      "weighted avg       0.79      0.79      0.79      1688\n",
      "\n"
     ]
    }
   ],
   "source": [
    "# Predict on validate\n",
    "y_pred = logit.predict(X_validate)\n",
    "\n",
    "# evaluate on validate\n",
    "print(classification_report(y_validate, y_pred))"
   ]
  },
  {
   "cell_type": "markdown",
   "id": "95d017c0",
   "metadata": {},
   "source": [
    "### KNN"
   ]
  },
  {
   "cell_type": "markdown",
   "id": "c756e784",
   "metadata": {},
   "source": [
    "#### Evaluate on Train"
   ]
  },
  {
   "cell_type": "code",
   "execution_count": 18,
   "id": "18373e1b",
   "metadata": {},
   "outputs": [
    {
     "name": "stdout",
     "output_type": "stream",
     "text": [
      "              precision    recall  f1-score   support\n",
      "\n",
      "           0       0.79      0.95      0.86      2891\n",
      "           1       0.68      0.32      0.44      1046\n",
      "\n",
      "    accuracy                           0.78      3937\n",
      "   macro avg       0.74      0.63      0.65      3937\n",
      "weighted avg       0.76      0.78      0.75      3937\n",
      "\n"
     ]
    }
   ],
   "source": [
    "# Create knn model\n",
    "knn = KNeighborsClassifier(n_neighbors = 8, weights = 'uniform')\n",
    "# Fit model to predictors and target\n",
    "knn = knn.fit(X_train[features], y_train)\n",
    "# Predict outcomes\n",
    "y_pred = knn.predict(X_train[features])\n",
    "# Probability estimates\n",
    "y_pred_proba = knn.predict_proba(X_train[features])\n",
    "\n",
    "# Print scoring\n",
    "print(classification_report(y_train, y_pred))"
   ]
  },
  {
   "cell_type": "markdown",
   "id": "626901e7",
   "metadata": {},
   "source": [
    "#### Evaluate on Validate"
   ]
  },
  {
   "cell_type": "code",
   "execution_count": 19,
   "id": "c76de603",
   "metadata": {
    "scrolled": true
   },
   "outputs": [
    {
     "name": "stdout",
     "output_type": "stream",
     "text": [
      "              precision    recall  f1-score   support\n",
      "\n",
      "           0       0.77      0.90      0.83      1239\n",
      "           1       0.47      0.24      0.31       449\n",
      "\n",
      "    accuracy                           0.73      1688\n",
      "   macro avg       0.62      0.57      0.57      1688\n",
      "weighted avg       0.69      0.73      0.69      1688\n",
      "\n"
     ]
    }
   ],
   "source": [
    "# predict on validate\n",
    "y_pred = knn.predict(X_validate[features])\n",
    "\n",
    "# evaluate on validate\n",
    "print(classification_report(y_validate, y_pred))"
   ]
  },
  {
   "cell_type": "markdown",
   "id": "43ff1d24",
   "metadata": {},
   "source": [
    "### Random Forest"
   ]
  },
  {
   "cell_type": "markdown",
   "id": "afaff661",
   "metadata": {},
   "source": [
    "#### Evaluate on Train"
   ]
  },
  {
   "cell_type": "code",
   "execution_count": 26,
   "id": "2c4b24d1",
   "metadata": {},
   "outputs": [
    {
     "name": "stdout",
     "output_type": "stream",
     "text": [
      "              precision    recall  f1-score   support\n",
      "\n",
      "           0       0.80      0.96      0.87      2891\n",
      "           1       0.76      0.32      0.45      1046\n",
      "\n",
      "    accuracy                           0.79      3937\n",
      "   macro avg       0.78      0.64      0.66      3937\n",
      "weighted avg       0.79      0.79      0.76      3937\n",
      "\n"
     ]
    }
   ],
   "source": [
    "# features fed to model\n",
    "# Create random forest model\n",
    "rf = RandomForestClassifier(max_depth = 3, random_state=123)\n",
    "# Fit the model to train\n",
    "rf = rf.fit(X_train, y_train)\n",
    "# Predict outcomes\n",
    "y_pred = rf.predict(X_train)\n",
    "# Predicted class probabilities of the trees in the forest\n",
    "y_proba = rf.predict_proba(X_train)\n",
    "\n",
    "# Print out scoring\n",
    "print(classification_report(y_train, y_pred))"
   ]
  },
  {
   "cell_type": "markdown",
   "id": "4752ea8f",
   "metadata": {},
   "source": [
    "#### Evaluate on Validate"
   ]
  },
  {
   "cell_type": "code",
   "execution_count": 27,
   "id": "313849b0",
   "metadata": {},
   "outputs": [
    {
     "name": "stdout",
     "output_type": "stream",
     "text": [
      "              precision    recall  f1-score   support\n",
      "\n",
      "           0       0.79      0.95      0.86      1239\n",
      "           1       0.70      0.32      0.44       449\n",
      "\n",
      "    accuracy                           0.78      1688\n",
      "   macro avg       0.75      0.63      0.65      1688\n",
      "weighted avg       0.77      0.78      0.75      1688\n",
      "\n"
     ]
    }
   ],
   "source": [
    "# predict on validate\n",
    "y_pred = rf.predict(X_validate)\n",
    "\n",
    "# evaluate on validate\n",
    "print(classification_report(y_validate, y_pred))"
   ]
  },
  {
   "cell_type": "markdown",
   "id": "70b1f802",
   "metadata": {},
   "source": [
    "#### Evaluate on Test"
   ]
  },
  {
   "cell_type": "code",
   "execution_count": 34,
   "id": "a191e9d1",
   "metadata": {},
   "outputs": [
    {
     "name": "stdout",
     "output_type": "stream",
     "text": [
      "              precision    recall  f1-score   support\n",
      "\n",
      "           0       0.79      0.96      0.87      1033\n",
      "           1       0.75      0.30      0.43       374\n",
      "\n",
      "    accuracy                           0.79      1407\n",
      "   macro avg       0.77      0.63      0.65      1407\n",
      "weighted avg       0.78      0.79      0.75      1407\n",
      "\n"
     ]
    }
   ],
   "source": [
    "# predict on test\n",
    "y_pred = rf.predict(X_test)\n",
    "\n",
    "# probability estimates\n",
    "y_proba = rf.predict_proba(X_test)\n",
    "\n",
    "# evaulate on validate\n",
    "print(classification_report(y_test, y_pred))"
   ]
  },
  {
   "cell_type": "markdown",
   "id": "c6aa356a",
   "metadata": {},
   "source": [
    "I expect the RF model to perform at about 79% accuracy with a 96% recall score, ensuring emphasis on predicting those who have churned correctly."
   ]
  },
  {
   "cell_type": "markdown",
   "id": "4f0240e0",
   "metadata": {},
   "source": [
    "## Conclusion\n",
    "### Summary\n",
    "#### What is driving churn?\n",
    "Through statistical analysis, we've found that the primary drivers for churn are higher monthly charges and most users who churn have fiber internet services. Though not necessarily primary drivers, there is a lower chance to churn if the customer is a senior citizen or has dependents.\n",
    "\n",
    "#### Modeling\n",
    "The data was modeled through three different classifaction algorithms, with Random Forest being the top performer. This model was chosen due to having the highest recall score during training, while the accuracy was only about 1% behind the highest accuracy model. The model performed as well as it had in training, at 79% accuracy and 96% recall scores. These measures are what I am using to estimate accuracy in the future.\n",
    "\n",
    "### Recommendations\n",
    "Since the primary drivers of churn have been identified, my recommendation is to provide discounts to fiber internet services packages.\n",
    "\n",
    "### Next Steps\n",
    "To improve modeling, refining the algorithms to reduce overfitting while the specified drivers of churn are chosen for the model to train on will be beneficial in focusing the model on the primary drivers of churn. \n",
    "Continuing with the model training on a broad dataset, features to collect in the future that may be helpful would be data limits, data usage, and any extra charges for exceeding the data cap."
   ]
  },
  {
   "cell_type": "code",
   "execution_count": null,
   "id": "d74b5bad",
   "metadata": {},
   "outputs": [],
   "source": []
  }
 ],
 "metadata": {
  "kernelspec": {
   "display_name": "Python 3",
   "language": "python",
   "name": "python3"
  },
  "language_info": {
   "codemirror_mode": {
    "name": "ipython",
    "version": 3
   },
   "file_extension": ".py",
   "mimetype": "text/x-python",
   "name": "python",
   "nbconvert_exporter": "python",
   "pygments_lexer": "ipython3",
   "version": "3.8.8"
  }
 },
 "nbformat": 4,
 "nbformat_minor": 5
}
